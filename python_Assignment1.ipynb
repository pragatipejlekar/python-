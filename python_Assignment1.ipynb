{
 "cells": [
  {
   "cell_type": "markdown",
   "id": "64bd2520",
   "metadata": {},
   "source": [
    "Q1. \n",
    "•\t* = expression\n",
    "•\t‘hello’ =  string value\n",
    "•\t-87.8 =float  value\n",
    "•\t- = expression\n",
    "•\t/ =  expression\n",
    "•\t+ = expression\n",
    "•\t6 = int value\n"
   ]
  },
  {
   "cell_type": "markdown",
   "id": "d7965b37",
   "metadata": {},
   "source": [
    "Q2. Difference between string and variable \n",
    "\n",
    "A Variable is a store of information, and a String is a type of information you would store in a Variable. A String is usually words, enclosed with \"\" \n",
    "Eg String x =\" Welcome”  x  is the Variable, and we declared it as a String\n",
    "\n"
   ]
  },
  {
   "cell_type": "code",
   "execution_count": null,
   "id": "fb2c20f3",
   "metadata": {},
   "outputs": [],
   "source": [
    "Q3. \n",
    "Three different data types\n",
    "•\tNumeric (int, float, complex)\n",
    "•\tSequence Type (string, list,tuple)\n",
    "•\tBoolean\n",
    "•\tSet.\n",
    "•\tDictionary\n"
   ]
  },
  {
   "cell_type": "code",
   "execution_count": null,
   "id": "a5e76d8b",
   "metadata": {},
   "outputs": [],
   "source": [
    "Q4.\n",
    "An expression is a combination of values, variables, operators, and calls to functions. \n",
    "Expressions need to be evaluated.\n",
    "If you ask Python to print an expression, the interpreter evaluates the expression and displays the result."
   ]
  },
  {
   "cell_type": "code",
   "execution_count": null,
   "id": "068c5196",
   "metadata": {},
   "outputs": [],
   "source": [
    "Q5\n",
    "A statement does something. Statements represent an action or command \n",
    "e.g print statements, assignment statements. \n",
    "Expression is a combination of variables, operations and values that yields a result value.\n",
    " An expression is something that can be reduced to a value, for example \"1+3\" or \"a = 1+3\"\n"
   ]
  },
  {
   "cell_type": "code",
   "execution_count": null,
   "id": "7de6aea4",
   "metadata": {},
   "outputs": [],
   "source": [
    "Q6. \n",
    "bacon = 22\n",
    "bacon + 1\n",
    "\n",
    "variable bacon = 23\n"
   ]
  },
  {
   "cell_type": "code",
   "execution_count": null,
   "id": "a7234fbe",
   "metadata": {},
   "outputs": [],
   "source": [
    "Q7.\n",
    "'spam'+ 'spamspam'\n",
    "\n",
    "Output=  spamspamspam\n",
    "'spam'*3\n",
    "Output = spamspamspam\n",
    "Both output should be the same\n",
    "\n"
   ]
  },
  {
   "cell_type": "code",
   "execution_count": null,
   "id": "d636a989",
   "metadata": {},
   "outputs": [],
   "source": [
    "Q8.\n",
    "\n",
    "Egg is valid variable name because \n",
    "-\tVariable name should start with letter(a-zA-Z) or underscore (_).\n",
    "-\tIn variable name, no special characters allowed other than underscore (_).\n",
    "100 is not valid variable name because\n",
    "-\tVariable name can have numbers but not at the beginning.\n",
    "-\tVariable name should not be a number\n",
    "\n"
   ]
  },
  {
   "cell_type": "code",
   "execution_count": null,
   "id": "229d6d22",
   "metadata": {},
   "outputs": [],
   "source": [
    "Q9.\n",
    "-\tThe int() , float() , and str( ) \n",
    "functions will evaluate to the integer, floating-point number, and string versions of the value passed to them\n",
    "\n",
    "\n"
   ]
  },
  {
   "cell_type": "code",
   "execution_count": null,
   "id": "df2dc429",
   "metadata": {},
   "outputs": [],
   "source": [
    "Q10.\n",
    "'I have eaten ' + 99 + ' burritos. ' \n",
    "The expression causes an error because 99 is an integer, and only strings can be concatenated to other strings with the + operator. The correct way is\n",
    "‘I have eaten ' + str(99) + ' burritos’\n"
   ]
  }
 ],
 "metadata": {
  "kernelspec": {
   "display_name": "Python 3",
   "language": "python",
   "name": "python3"
  },
  "language_info": {
   "codemirror_mode": {
    "name": "ipython",
    "version": 3
   },
   "file_extension": ".py",
   "mimetype": "text/x-python",
   "name": "python",
   "nbconvert_exporter": "python",
   "pygments_lexer": "ipython3",
   "version": "3.8.8"
  }
 },
 "nbformat": 4,
 "nbformat_minor": 5
}
